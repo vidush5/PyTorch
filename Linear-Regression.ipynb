{
 "cells": [
  {
   "cell_type": "markdown",
   "metadata": {},
   "source": [
    "01) Design model (input, output size, forward pass)\n",
    "\n",
    "02) Construct loss and optimizer\n",
    "\n",
    "03) Training loop\n",
    "    - forward pass: compute prediction\n",
    "    - backward pass: gradients\n",
    "    - update weights"
   ]
  },
  {
   "cell_type": "code",
   "execution_count": 1,
   "metadata": {},
   "outputs": [],
   "source": [
    "import torch\n",
    "import torch.nn as nn\n",
    "import numpy as np\n",
    "from sklearn import datasets\n",
    "import matplotlib.pyplot as plt"
   ]
  },
  {
   "cell_type": "code",
   "execution_count": 2,
   "metadata": {},
   "outputs": [],
   "source": [
    "# 0) prepare data\n",
    "\n",
    "X_numpy, y_numpy = datasets.make_regression(n_samples=100,\n",
    "                                           n_features=1,\n",
    "                                           noise=20,\n",
    "                                           random_state=1)"
   ]
  },
  {
   "cell_type": "code",
   "execution_count": 5,
   "metadata": {},
   "outputs": [],
   "source": [
    "# Converting them into torch tensors\n",
    "X = torch.from_numpy(X_numpy.astype(np.float32))\n",
    "y = torch.from_numpy(y_numpy.astype(np.float32))"
   ]
  },
  {
   "cell_type": "code",
   "execution_count": 7,
   "metadata": {},
   "outputs": [
    {
     "data": {
      "text/plain": [
       "tensor([-5.5539e+01, -1.0662e+01,  2.2757e+01,  1.0110e+02,  1.4434e+02,\n",
       "         3.3289e+01,  3.3015e+01, -2.5887e+01, -9.9639e+01,  2.3803e+01,\n",
       "        -4.5589e+01, -8.3388e+00, -9.5315e+01,  3.6407e+01, -8.7293e+01,\n",
       "         6.7669e+01, -1.3687e+01, -5.5441e+01, -6.5340e+01, -5.4450e+01,\n",
       "        -2.8835e+01,  1.7884e+02,  6.5084e+01,  2.6668e+01, -1.8546e+01,\n",
       "        -4.1499e+01,  8.5583e-01,  4.4562e+01,  1.1598e+02, -6.4620e+01,\n",
       "        -2.5931e+01, -6.0882e+01,  1.8720e+01,  7.5070e+01,  1.1720e+02,\n",
       "        -2.2698e+01, -5.6363e+01,  1.8084e+02, -1.9257e+02,  6.8503e+01,\n",
       "         1.6552e+02,  1.0500e+02, -7.0434e+01, -5.8769e+01, -4.1576e+01,\n",
       "         7.3247e+01,  4.0966e+01,  8.0462e+01, -2.8794e+01,  3.4234e+01,\n",
       "        -4.1715e+01,  1.4355e+01,  7.9336e+01,  2.7129e+01, -3.9487e+01,\n",
       "         6.6805e+01,  9.5531e+01,  3.5610e+00,  1.0857e-01,  5.6495e+01,\n",
       "         5.1575e+01, -2.0974e+00, -2.6656e+01,  3.9742e+01,  3.6101e+01,\n",
       "        -7.5602e+01,  1.9713e+01, -7.1601e+01, -1.9904e+01, -7.6708e+01,\n",
       "        -1.1834e+02, -2.9825e+01,  1.5108e+02,  5.2923e+01, -5.9552e+01,\n",
       "         3.0721e+01, -2.9355e+01, -4.4786e+01,  1.0006e+02,  1.5058e+02,\n",
       "         1.2200e+02, -1.8186e+02,  3.4739e+00, -2.2980e+01,  4.5184e+01,\n",
       "         9.8606e+01, -9.2779e+00, -5.2478e+01,  3.8593e+01, -1.9997e+02,\n",
       "        -9.5201e+00, -3.4724e+00, -3.5312e+01,  7.5406e+01,  1.7570e+01,\n",
       "        -2.3960e+01,  1.3209e+02,  2.0608e+01,  5.1111e+01, -2.6306e+01])"
      ]
     },
     "execution_count": 7,
     "metadata": {},
     "output_type": "execute_result"
    }
   ],
   "source": []
  },
  {
   "cell_type": "code",
   "execution_count": 8,
   "metadata": {},
   "outputs": [
    {
     "data": {
      "text/plain": [
       "tensor([[-5.5539e+01],\n",
       "        [-1.0662e+01],\n",
       "        [ 2.2757e+01],\n",
       "        [ 1.0110e+02],\n",
       "        [ 1.4434e+02],\n",
       "        [ 3.3289e+01],\n",
       "        [ 3.3015e+01],\n",
       "        [-2.5887e+01],\n",
       "        [-9.9639e+01],\n",
       "        [ 2.3803e+01],\n",
       "        [-4.5589e+01],\n",
       "        [-8.3388e+00],\n",
       "        [-9.5315e+01],\n",
       "        [ 3.6407e+01],\n",
       "        [-8.7293e+01],\n",
       "        [ 6.7669e+01],\n",
       "        [-1.3687e+01],\n",
       "        [-5.5441e+01],\n",
       "        [-6.5340e+01],\n",
       "        [-5.4450e+01],\n",
       "        [-2.8835e+01],\n",
       "        [ 1.7884e+02],\n",
       "        [ 6.5084e+01],\n",
       "        [ 2.6668e+01],\n",
       "        [-1.8546e+01],\n",
       "        [-4.1499e+01],\n",
       "        [ 8.5583e-01],\n",
       "        [ 4.4562e+01],\n",
       "        [ 1.1598e+02],\n",
       "        [-6.4620e+01],\n",
       "        [-2.5931e+01],\n",
       "        [-6.0882e+01],\n",
       "        [ 1.8720e+01],\n",
       "        [ 7.5070e+01],\n",
       "        [ 1.1720e+02],\n",
       "        [-2.2698e+01],\n",
       "        [-5.6363e+01],\n",
       "        [ 1.8084e+02],\n",
       "        [-1.9257e+02],\n",
       "        [ 6.8503e+01],\n",
       "        [ 1.6552e+02],\n",
       "        [ 1.0500e+02],\n",
       "        [-7.0434e+01],\n",
       "        [-5.8769e+01],\n",
       "        [-4.1576e+01],\n",
       "        [ 7.3247e+01],\n",
       "        [ 4.0966e+01],\n",
       "        [ 8.0462e+01],\n",
       "        [-2.8794e+01],\n",
       "        [ 3.4234e+01],\n",
       "        [-4.1715e+01],\n",
       "        [ 1.4355e+01],\n",
       "        [ 7.9336e+01],\n",
       "        [ 2.7129e+01],\n",
       "        [-3.9487e+01],\n",
       "        [ 6.6805e+01],\n",
       "        [ 9.5531e+01],\n",
       "        [ 3.5610e+00],\n",
       "        [ 1.0857e-01],\n",
       "        [ 5.6495e+01],\n",
       "        [ 5.1575e+01],\n",
       "        [-2.0974e+00],\n",
       "        [-2.6656e+01],\n",
       "        [ 3.9742e+01],\n",
       "        [ 3.6101e+01],\n",
       "        [-7.5602e+01],\n",
       "        [ 1.9713e+01],\n",
       "        [-7.1601e+01],\n",
       "        [-1.9904e+01],\n",
       "        [-7.6708e+01],\n",
       "        [-1.1834e+02],\n",
       "        [-2.9825e+01],\n",
       "        [ 1.5108e+02],\n",
       "        [ 5.2923e+01],\n",
       "        [-5.9552e+01],\n",
       "        [ 3.0721e+01],\n",
       "        [-2.9355e+01],\n",
       "        [-4.4786e+01],\n",
       "        [ 1.0006e+02],\n",
       "        [ 1.5058e+02],\n",
       "        [ 1.2200e+02],\n",
       "        [-1.8186e+02],\n",
       "        [ 3.4739e+00],\n",
       "        [-2.2980e+01],\n",
       "        [ 4.5184e+01],\n",
       "        [ 9.8606e+01],\n",
       "        [-9.2779e+00],\n",
       "        [-5.2478e+01],\n",
       "        [ 3.8593e+01],\n",
       "        [-1.9997e+02],\n",
       "        [-9.5201e+00],\n",
       "        [-3.4724e+00],\n",
       "        [-3.5312e+01],\n",
       "        [ 7.5406e+01],\n",
       "        [ 1.7570e+01],\n",
       "        [-2.3960e+01],\n",
       "        [ 1.3209e+02],\n",
       "        [ 2.0608e+01],\n",
       "        [ 5.1111e+01],\n",
       "        [-2.6306e+01]])"
      ]
     },
     "execution_count": 8,
     "metadata": {},
     "output_type": "execute_result"
    }
   ],
   "source": [
    "y = y.view(y.shape[0],1)\n",
    "y"
   ]
  },
  {
   "cell_type": "code",
   "execution_count": 9,
   "metadata": {},
   "outputs": [],
   "source": [
    "n_samples , n_features = X.shape"
   ]
  },
  {
   "cell_type": "code",
   "execution_count": 10,
   "metadata": {},
   "outputs": [
    {
     "data": {
      "text/plain": [
       "100"
      ]
     },
     "execution_count": 10,
     "metadata": {},
     "output_type": "execute_result"
    }
   ],
   "source": [
    "n_samples"
   ]
  },
  {
   "cell_type": "code",
   "execution_count": 11,
   "metadata": {},
   "outputs": [
    {
     "data": {
      "text/plain": [
       "1"
      ]
     },
     "execution_count": 11,
     "metadata": {},
     "output_type": "execute_result"
    }
   ],
   "source": [
    "n_features"
   ]
  },
  {
   "cell_type": "code",
   "execution_count": 12,
   "metadata": {},
   "outputs": [
    {
     "data": {
      "text/plain": [
       "torch.Size([100, 1])"
      ]
     },
     "execution_count": 12,
     "metadata": {},
     "output_type": "execute_result"
    }
   ],
   "source": [
    "X.shape"
   ]
  },
  {
   "cell_type": "code",
   "execution_count": 13,
   "metadata": {},
   "outputs": [],
   "source": [
    "# 1) model\n",
    "input_size = n_features\n",
    "output_size = 1\n",
    "\n",
    "model = nn.Linear(input_size, output_size)"
   ]
  },
  {
   "cell_type": "code",
   "execution_count": 21,
   "metadata": {},
   "outputs": [],
   "source": [
    "# 02) loss and optimizer\n",
    "criterion = nn.MSELoss()\n",
    "optimizer = torch.optim.SGD(model.parameters(), lr = 0.01)"
   ]
  },
  {
   "cell_type": "code",
   "execution_count": 22,
   "metadata": {},
   "outputs": [
    {
     "name": "stdout",
     "output_type": "stream",
     "text": [
      "epoch: 10, loss = 3758.8604\n",
      "epoch: 20, loss = 2820.5571\n",
      "epoch: 30, loss = 2140.6497\n",
      "epoch: 40, loss = 1647.5073\n",
      "epoch: 50, loss = 1289.5099\n",
      "epoch: 60, loss = 1029.4084\n",
      "epoch: 70, loss = 840.2913\n",
      "epoch: 80, loss = 702.6909\n",
      "epoch: 90, loss = 602.5098\n",
      "epoch: 100, loss = 529.5303\n"
     ]
    }
   ],
   "source": [
    "# traininng loop\n",
    "num_epochs = 100\n",
    "\n",
    "for epoch in range(num_epochs):\n",
    "    # forward pass and loss\n",
    "    y_predicted = model(X)\n",
    "    loss = criterion(y_predicted, y)\n",
    "    \n",
    "    # backward pass\n",
    "    loss.backward()\n",
    "    \n",
    "    # update\n",
    "    optimzer.step()\n",
    "    \n",
    "    optimizer.zero_grad()\n",
    "    \n",
    "    if (epoch+1) % 10 == 0:\n",
    "        print(f'epoch: {epoch+1}, loss = {loss.item():.4f}')\n",
    "    \n",
    "    "
   ]
  },
  {
   "cell_type": "code",
   "execution_count": 23,
   "metadata": {},
   "outputs": [
    {
     "data": {
      "image/png": "[encoded data removed]",
      "text/plain": [
       "<Figure size 432x288 with 1 Axes>"
      ]
     },
     "metadata": {
      "needs_background": "light"
     },
     "output_type": "display_data"
    }
   ],
   "source": [
    "# plot \n",
    "predicted = model(X).detach().numpy()\n",
    "plt.plot(X_numpy, y_numpy, 'ro')\n",
    "plt.plot(X_numpy, predicted, 'b')\n",
    "plt.show()"
   ]
  },
  {
   "cell_type": "code",
   "execution_count": null,
   "metadata": {},
   "outputs": [],
   "source": []
  }
 ],
 "metadata": {
  "kernelspec": {
   "display_name": "Python 3",
   "language": "python",
   "name": "python3"
  },
  "language_info": {
   "codemirror_mode": {
    "name": "ipython",
    "version": 3
   },
   "file_extension": ".py",
   "mimetype": "text/x-python",
   "name": "python",
   "nbconvert_exporter": "python",
   "pygments_lexer": "ipython3",
   "version": "3.7.6"
  }
 },
 "nbformat": 4,
 "nbformat_minor": 4
}
