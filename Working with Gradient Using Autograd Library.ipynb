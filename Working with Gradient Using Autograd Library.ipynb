{
 "cells": [
  {
   "cell_type": "code",
   "execution_count": 83,
   "metadata": {},
   "outputs": [],
   "source": [
    "import numpy as np\n",
    "import matplotlib.pyplot as plt"
   ]
  },
  {
   "cell_type": "code",
   "execution_count": 84,
   "metadata": {},
   "outputs": [],
   "source": [
    "x_train = np.array([[4.7],[2.4],[7.5],[7.1],[4.3],[7.816],\n",
    "                   [8.9],[5.2],[8.59],[2.1],[8],\n",
    "                   [10],[4.5],[6],[4]], dtype = np.float32)\n",
    "\n",
    "y_train = np.array([[2.6], [1.6], [3.09], [2.4], [2.4], [3.357],\n",
    "                    [2.6],[1.96],[3.53],[1.76],[3.2],\n",
    "                    [3.5],[1.6],[2.5],[2.2]], dtype = np.float32)"
   ]
  },
  {
   "cell_type": "code",
   "execution_count": 85,
   "metadata": {},
   "outputs": [
    {
     "data": {
      "image/png": "[encoded data removed]",
      "text/plain": [
       "<Figure size 864x576 with 1 Axes>"
      ]
     },
     "metadata": {
      "needs_background": "light"
     },
     "output_type": "display_data"
    }
   ],
   "source": [
    "plt.figure(figsize=(12, 8))\n",
    "\n",
    "plt.scatter(x_train, y_train, label='Original data', s=250, c='g')\n",
    "\n",
    "plt.legend()\n",
    "plt.show()"
   ]
  },
  {
   "cell_type": "code",
   "execution_count": 86,
   "metadata": {},
   "outputs": [],
   "source": [
    "import torch"
   ]
  },
  {
   "cell_type": "code",
   "execution_count": 87,
   "metadata": {},
   "outputs": [
    {
     "name": "stdout",
     "output_type": "stream",
     "text": [
      "requires_grad for X_train:  False\n",
      "requires_grad for Y_train:  False\n"
     ]
    }
   ],
   "source": [
    "# Converting x_train and y_train into torch tensors\n",
    "X_train = torch.from_numpy(x_train)\n",
    "Y_train = torch.from_numpy(y_train)\n",
    "\n",
    "print('requires_grad for X_train: ', X_train.requires_grad)\n",
    "print('requires_grad for Y_train: ', Y_train.requires_grad)"
   ]
  },
  {
   "cell_type": "code",
   "execution_count": 88,
   "metadata": {},
   "outputs": [],
   "source": [
    "# Setting up the variables\n",
    "input_size = 1\n",
    "hidden_size = 1\n",
    "output_size = 1"
   ]
  },
  {
   "cell_type": "code",
   "execution_count": 89,
   "metadata": {},
   "outputs": [
    {
     "data": {
      "text/plain": [
       "torch.Size([1, 1])"
      ]
     },
     "execution_count": 89,
     "metadata": {},
     "output_type": "execute_result"
    }
   ],
   "source": [
    "w1 = torch.rand(input_size,\n",
    "                hidden_size,\n",
    "                \n",
    "                requires_grad=True)\n",
    "\n",
    "w1.shape"
   ]
  },
  {
   "cell_type": "code",
   "execution_count": 90,
   "metadata": {},
   "outputs": [
    {
     "data": {
      "text/plain": [
       "torch.Size([1, 1])"
      ]
     },
     "execution_count": 90,
     "metadata": {},
     "output_type": "execute_result"
    }
   ],
   "source": [
    "w2 = torch.rand(hidden_size,\n",
    "                output_size,\n",
    "                \n",
    "                \n",
    "                requires_grad=True)\n",
    "\n",
    "w2.shape"
   ]
  },
  {
   "cell_type": "code",
   "execution_count": 91,
   "metadata": {},
   "outputs": [],
   "source": [
    "learning_rate = 1e-6"
   ]
  },
  {
   "cell_type": "code",
   "execution_count": 104,
   "metadata": {},
   "outputs": [
    {
     "name": "stdout",
     "output_type": "stream",
     "text": [
      "0 4.4925432205200195\n",
      "50 4.454294681549072\n",
      "100 4.419577121734619\n",
      "150 4.3880839347839355\n",
      "200 4.359522342681885\n",
      "250 4.333630561828613\n",
      "300 4.310168743133545\n",
      "350 4.288909435272217\n",
      "400 4.2696614265441895\n",
      "450 4.252237319946289\n",
      "500 4.2364678382873535\n",
      "550 4.222198486328125\n",
      "600 4.209292411804199\n",
      "650 4.197621822357178\n",
      "700 4.187071323394775\n",
      "750 4.1775360107421875\n",
      "800 4.168919086456299\n",
      "850 4.161134243011475\n",
      "900 4.154102325439453\n",
      "950 4.147752285003662\n",
      "1000 4.142018795013428\n",
      "1050 4.136842727661133\n",
      "1100 4.132170677185059\n",
      "1150 4.127954006195068\n",
      "1200 4.124149799346924\n",
      "1250 4.120718002319336\n",
      "1300 4.117621421813965\n",
      "1350 4.1148271560668945\n",
      "1400 4.112308502197266\n",
      "1450 4.110037803649902\n",
      "1500 4.10798978805542\n",
      "1550 4.106144428253174\n",
      "1600 4.104480266571045\n",
      "1650 4.10297966003418\n",
      "1700 4.101627826690674\n",
      "1750 4.100409507751465\n",
      "1800 4.099311828613281\n",
      "1850 4.098321914672852\n",
      "1900 4.097430229187012\n",
      "1950 4.096627712249756\n",
      "2000 4.095904350280762\n",
      "2050 4.095252513885498\n",
      "2100 4.094666004180908\n",
      "2150 4.094137191772461\n",
      "2200 4.093660354614258\n",
      "2250 4.093231678009033\n",
      "2300 4.092845439910889\n",
      "2350 4.0924973487854\n",
      "2400 4.092183589935303\n",
      "2450 4.091902256011963\n",
      "2500 4.091648578643799\n",
      "2550 4.091419219970703\n",
      "2600 4.091214179992676\n",
      "2650 4.091028213500977\n",
      "2700 4.0908613204956055\n",
      "2750 4.09071159362793\n",
      "2800 4.090575695037842\n",
      "2850 4.0904541015625\n",
      "2900 4.090344429016113\n",
      "2950 4.090246200561523\n"
     ]
    }
   ],
   "source": [
    "for iter in range(0,3000):\n",
    "    y_pred = X_train.mm(w1).mm(w2)\n",
    "    loss = (y_pred - Y_train).pow(2).sum()\n",
    "    \n",
    "    \n",
    "    if iter % 50 ==0:\n",
    "        print(iter, loss.item())\n",
    "        \n",
    "    loss.backward()\n",
    "    \n",
    "    with torch.no_grad():\n",
    "        w1 -= learning_rate * w1.grad\n",
    "        w2 -= learning_rate * w2.grad\n",
    "        w1.grad.zero_()\n",
    "        w2.grad.zero_()"
   ]
  },
  {
   "cell_type": "code",
   "execution_count": 105,
   "metadata": {},
   "outputs": [
    {
     "name": "stdout",
     "output_type": "stream",
     "text": [
      "w1:  tensor([[0.7343]], requires_grad=True)\n",
      "w2:  tensor([[0.5386]], requires_grad=True)\n"
     ]
    }
   ],
   "source": [
    "print ('w1: ', w1)\n",
    "print ('w2: ', w2)"
   ]
  },
  {
   "cell_type": "code",
   "execution_count": 106,
   "metadata": {},
   "outputs": [
    {
     "data": {
      "text/plain": [
       "tensor([[ 4.7000],\n",
       "        [ 2.4000],\n",
       "        [ 7.5000],\n",
       "        [ 7.1000],\n",
       "        [ 4.3000],\n",
       "        [ 7.8160],\n",
       "        [ 8.9000],\n",
       "        [ 5.2000],\n",
       "        [ 8.5900],\n",
       "        [ 2.1000],\n",
       "        [ 8.0000],\n",
       "        [10.0000],\n",
       "        [ 4.5000],\n",
       "        [ 6.0000],\n",
       "        [ 4.0000]])"
      ]
     },
     "execution_count": 106,
     "metadata": {},
     "output_type": "execute_result"
    }
   ],
   "source": [
    "x_train_tensor = torch.from_numpy(x_train)\n",
    "x_train_tensor"
   ]
  },
  {
   "cell_type": "code",
   "execution_count": 107,
   "metadata": {},
   "outputs": [
    {
     "data": {
      "text/plain": [
       "tensor([[1.8589],\n",
       "        [0.9492],\n",
       "        [2.9664],\n",
       "        [2.8082],\n",
       "        [1.7007],\n",
       "        [3.0914],\n",
       "        [3.5201],\n",
       "        [2.0567],\n",
       "        [3.3975],\n",
       "        [0.8306],\n",
       "        [3.1642],\n",
       "        [3.9552],\n",
       "        [1.7798],\n",
       "        [2.3731],\n",
       "        [1.5821]], grad_fn=<MmBackward>)"
      ]
     },
     "execution_count": 107,
     "metadata": {},
     "output_type": "execute_result"
    }
   ],
   "source": [
    "predicted_in_tensor = x_train_tensor.mm(w1).mm(w2)\n",
    "predicted_in_tensor"
   ]
  },
  {
   "cell_type": "code",
   "execution_count": 108,
   "metadata": {},
   "outputs": [
    {
     "data": {
      "text/plain": [
       "array([[1.8589453 ],\n",
       "       [0.94924873],\n",
       "       [2.966402  ],\n",
       "       [2.808194  ],\n",
       "       [1.7007372 ],\n",
       "       [3.0913866 ],\n",
       "       [3.5201302 ],\n",
       "       [2.0567055 ],\n",
       "       [3.397519  ],\n",
       "       [0.8305925 ],\n",
       "       [3.1641622 ],\n",
       "       [3.9552028 ],\n",
       "       [1.7798413 ],\n",
       "       [2.3731215 ],\n",
       "       [1.5820811 ]], dtype=float32)"
      ]
     },
     "execution_count": 108,
     "metadata": {},
     "output_type": "execute_result"
    }
   ],
   "source": [
    "predicted = predicted_in_tensor.detach().numpy()\n",
    "predicted"
   ]
  },
  {
   "cell_type": "code",
   "execution_count": 109,
   "metadata": {},
   "outputs": [
    {
     "data": {
      "image/png": "[encoded data removed]",
      "text/plain": [
       "<Figure size 864x576 with 1 Axes>"
      ]
     },
     "metadata": {
      "needs_background": "light"
     },
     "output_type": "display_data"
    }
   ],
   "source": [
    "plt.figure(figsize=(12,8))\n",
    "\n",
    "plt.scatter(x_train, y_train, label = 'Original data' , s=250, c='g')\n",
    "\n",
    "plt.plot(x_train, predicted, label = 'Fitted line')\n",
    "\n",
    "plt.legend()\n",
    "\n",
    "plt.show()"
   ]
  },
  {
   "cell_type": "code",
   "execution_count": null,
   "metadata": {},
   "outputs": [],
   "source": []
  }
 ],
 "metadata": {
  "kernelspec": {
   "display_name": "Python 3",
   "language": "python",
   "name": "python3"
  },
  "language_info": {
   "codemirror_mode": {
    "name": "ipython",
    "version": 3
   },
   "file_extension": ".py",
   "mimetype": "text/x-python",
   "name": "python",
   "nbconvert_exporter": "python",
   "pygments_lexer": "ipython3",
   "version": "3.7.6"
  }
 },
 "nbformat": 4,
 "nbformat_minor": 4
}
