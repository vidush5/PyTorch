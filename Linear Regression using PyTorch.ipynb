{
 "cells": [
  {
   "cell_type": "code",
   "execution_count": 21,
   "metadata": {},
   "outputs": [],
   "source": [
    "#Importing packages\n",
    "import torch\n",
    "import torch.nn as nn\n",
    "import matplotlib.pyplot as plt\n",
    "import numpy\n",
    "\n",
    "%matplotlib inline"
   ]
  },
  {
   "cell_type": "code",
   "execution_count": 22,
   "metadata": {},
   "outputs": [
    {
     "data": {
      "text/plain": [
       "Text(0.5, 0, 'X')"
      ]
     },
     "execution_count": 22,
     "metadata": {},
     "output_type": "execute_result"
    },
    {
     "data": {
      "image/png": "[encoded data removed]",
      "text/plain": [
       "<Figure size 432x288 with 1 Axes>"
      ]
     },
     "metadata": {
      "needs_background": "light"
     },
     "output_type": "display_data"
    }
   ],
   "source": [
    "X = torch.randn(100,1) * 10\n",
    "y = X + 3 * torch.randn(100,1)\n",
    "\n",
    "plt.plot(X.numpy(),y.numpy(),'o')\n",
    "plt.grid()\n",
    "plt.ylabel('y')\n",
    "plt.xlabel('X')"
   ]
  },
  {
   "cell_type": "code",
   "execution_count": 23,
   "metadata": {},
   "outputs": [],
   "source": [
    "class LR(nn.Module):\n",
    "    def __init__(self, input_size, output_size):\n",
    "        super().__init__()\n",
    "        self.linear = nn.Linear(input_size, output_size)\n",
    "    \n",
    "    def forward(self, x):\n",
    "        pred = self.linear(x)\n",
    "        return pred"
   ]
  },
  {
   "cell_type": "code",
   "execution_count": 24,
   "metadata": {},
   "outputs": [
    {
     "name": "stdout",
     "output_type": "stream",
     "text": [
      "LR(\n",
      "  (linear): Linear(in_features=1, out_features=1, bias=True)\n",
      ")\n"
     ]
    }
   ],
   "source": [
    "torch.manual_seed(1)\n",
    "model = LR(1,1)\n",
    "\n",
    "print(model)"
   ]
  },
  {
   "cell_type": "code",
   "execution_count": 25,
   "metadata": {},
   "outputs": [],
   "source": [
    "[w, b] = model.parameters()\n",
    "def get_params():\n",
    "    return (w[0][0].item(), b[0].item())"
   ]
  },
  {
   "cell_type": "code",
   "execution_count": 26,
   "metadata": {},
   "outputs": [],
   "source": [
    "def plot_fit(title):\n",
    "    plt.title = title\n",
    "    w1, b1 = get_params()\n",
    "    x1 = np.array([-30, 30])\n",
    "    y1 = w1*x1 + b1\n",
    "    plt.plot(x1, y1, 'r')\n",
    "    plt.scatter(X, y)\n",
    "    plt.show()"
   ]
  },
  {
   "cell_type": "code",
   "execution_count": 27,
   "metadata": {},
   "outputs": [
    {
     "data": {
      "image/png": "[encoded data removed]",
      "text/plain": [
       "<Figure size 432x288 with 1 Axes>"
      ]
     },
     "metadata": {
      "needs_background": "light"
     },
     "output_type": "display_data"
    }
   ],
   "source": [
    "plot_fit('Initial Model')"
   ]
  },
  {
   "cell_type": "code",
   "execution_count": 28,
   "metadata": {},
   "outputs": [],
   "source": [
    "criterion = nn.MSELoss()\n",
    "optimizer = torch.optim.SGD(model.parameters(), lr = 0.01)"
   ]
  },
  {
   "cell_type": "code",
   "execution_count": 29,
   "metadata": {},
   "outputs": [
    {
     "name": "stdout",
     "output_type": "stream",
     "text": [
      "epoch: 0 loss: 36.44832992553711\n",
      "epoch: 1 loss: 43.94552230834961\n",
      "epoch: 2 loss: 53.461822509765625\n",
      "epoch: 3 loss: 65.54042053222656\n",
      "epoch: 4 loss: 80.87049865722656\n",
      "epoch: 5 loss: 100.32696533203125\n",
      "epoch: 6 loss: 125.01981353759766\n",
      "epoch: 7 loss: 156.35780334472656\n",
      "epoch: 8 loss: 196.1287384033203\n",
      "epoch: 9 loss: 246.6014404296875\n",
      "epoch: 10 loss: 310.6552429199219\n",
      "epoch: 11 loss: 391.94354248046875\n",
      "epoch: 12 loss: 495.1043701171875\n",
      "epoch: 13 loss: 626.021240234375\n",
      "epoch: 14 loss: 792.162109375\n",
      "epoch: 15 loss: 1003.0046997070312\n",
      "epoch: 16 loss: 1270.573974609375\n",
      "epoch: 17 loss: 1610.1314697265625\n",
      "epoch: 18 loss: 2041.047119140625\n",
      "epoch: 19 loss: 2587.899169921875\n",
      "epoch: 20 loss: 3281.88427734375\n",
      "epoch: 21 loss: 4162.58251953125\n",
      "epoch: 22 loss: 5280.22607421875\n",
      "epoch: 23 loss: 6698.5693359375\n",
      "epoch: 24 loss: 8498.501953125\n",
      "epoch: 25 loss: 10782.724609375\n",
      "epoch: 26 loss: 13681.5009765625\n",
      "epoch: 27 loss: 17360.19140625\n",
      "epoch: 28 loss: 22028.619140625\n",
      "epoch: 29 loss: 27953.03125\n",
      "epoch: 30 loss: 35471.41796875\n",
      "epoch: 31 loss: 45012.609375\n",
      "epoch: 32 loss: 57120.8359375\n",
      "epoch: 33 loss: 72486.71875\n",
      "epoch: 34 loss: 91986.765625\n",
      "epoch: 35 loss: 116733.203125\n",
      "epoch: 36 loss: 148137.65625\n",
      "epoch: 37 loss: 187991.4375\n",
      "epoch: 38 loss: 238567.609375\n",
      "epoch: 39 loss: 302751.03125\n",
      "epoch: 40 loss: 384202.9375\n",
      "epoch: 41 loss: 487569.09375\n",
      "epoch: 42 loss: 618745.625\n",
      "epoch: 43 loss: 785214.6875\n",
      "epoch: 44 loss: 996472.0\n",
      "epoch: 45 loss: 1264566.25\n",
      "epoch: 46 loss: 1604792.25\n",
      "epoch: 47 loss: 2036555.625\n",
      "epoch: 48 loss: 2584480.5\n",
      "epoch: 49 loss: 3279822.75\n",
      "epoch: 50 loss: 4162246.5\n",
      "epoch: 51 loss: 5282088.0\n",
      "epoch: 52 loss: 6703212.0\n",
      "epoch: 53 loss: 8506686.0\n",
      "epoch: 54 loss: 10795366.0\n",
      "epoch: 55 loss: 13699813.0\n",
      "epoch: 56 loss: 17385698.0\n",
      "epoch: 57 loss: 22063232.0\n",
      "epoch: 58 loss: 27999266.0\n",
      "epoch: 59 loss: 35532364.0\n",
      "epoch: 60 loss: 45092212.0\n",
      "epoch: 61 loss: 57224080.0\n",
      "epoch: 62 loss: 72619944.0\n",
      "epoch: 63 loss: 92158096.0\n",
      "epoch: 64 loss: 116953024.0\n",
      "epoch: 65 loss: 148418800.0\n",
      "epoch: 66 loss: 188350368.0\n",
      "epoch: 67 loss: 239025376.0\n",
      "epoch: 68 loss: 303334208.0\n",
      "epoch: 69 loss: 384944640.0\n",
      "epoch: 70 loss: 488513184.0\n",
      "epoch: 71 loss: 619946048.0\n",
      "epoch: 72 loss: 786739776.0\n",
      "epoch: 73 loss: 998408960.0\n",
      "epoch: 74 loss: 1267026560.0\n",
      "epoch: 75 loss: 1607916160.0\n",
      "epoch: 76 loss: 2040521472.0\n",
      "epoch: 77 loss: 2589516288.0\n",
      "epoch: 78 loss: 3286216960.0\n",
      "epoch: 79 loss: 4170362880.0\n",
      "epoch: 80 loss: 5292380672.0\n",
      "epoch: 81 loss: 6716277760.0\n",
      "epoch: 82 loss: 8523272704.0\n",
      "epoch: 83 loss: 10816418816.0\n",
      "epoch: 84 loss: 13726528512.0\n",
      "epoch: 85 loss: 17419610112.0\n",
      "epoch: 86 loss: 22106290176.0\n",
      "epoch: 87 loss: 28053929984.0\n",
      "epoch: 88 loss: 35601727488.0\n",
      "epoch: 89 loss: 45180293120.0\n",
      "epoch: 90 loss: 57335857152.0\n",
      "epoch: 91 loss: 72761778176.0\n",
      "epoch: 92 loss: 92337963008.0\n",
      "epoch: 93 loss: 117181161472.0\n",
      "epoch: 94 loss: 148708229120.0\n",
      "epoch: 95 loss: 188717678592.0\n",
      "epoch: 96 loss: 239491612672.0\n",
      "epoch: 97 loss: 303925821440.0\n",
      "epoch: 98 loss: 385696038912.0\n",
      "epoch: 99 loss: 489466265600.0\n"
     ]
    }
   ],
   "source": [
    "epochs = 100\n",
    "losses = []\n",
    "\n",
    "for i in range(epochs):\n",
    "    y_pred = model.forward(X)\n",
    "    loss = criterion(y_pred, y)\n",
    "    \n",
    "    print(\"epoch:\", i, \"loss:\", loss.item())\n",
    "    \n",
    "    \n",
    "    losses.append(loss)\n",
    "    optimizer.zero_grad()\n",
    "    loss.backward()\n",
    "    optimizer.step()"
   ]
  },
  {
   "cell_type": "code",
   "execution_count": null,
   "metadata": {},
   "outputs": [],
   "source": [
    "plt.plot(range(epochs, losses))"
   ]
  }
 ],
 "metadata": {
  "kernelspec": {
   "display_name": "Python 3",
   "language": "python",
   "name": "python3"
  },
  "language_info": {
   "codemirror_mode": {
    "name": "ipython",
    "version": 3
   },
   "file_extension": ".py",
   "mimetype": "text/x-python",
   "name": "python",
   "nbconvert_exporter": "python",
   "pygments_lexer": "ipython3",
   "version": "3.7.3"
  }
 },
 "nbformat": 4,
 "nbformat_minor": 2
}
